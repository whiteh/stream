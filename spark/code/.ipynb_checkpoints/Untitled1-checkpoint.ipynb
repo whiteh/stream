{
 "cells": [
  {
   "cell_type": "code",
   "execution_count": null,
   "metadata": {},
   "outputs": [],
   "source": [
    "/usr/spark-2.0.0/spark-streaming-kafka-0-8-assembly_2.11-2.2.1.jar'print sc"
   ]
  },
  {
   "cell_type": "code",
   "execution_count": null,
   "metadata": {},
   "outputs": [],
   "source": [
    "\n",
    "def process(x):\n",
    "    if ('user' in x): \n",
    "        return (x['user']['screen_name'],1)\n",
    "    else:\n",
    "        return ('',1)\n",
    "    \n",
    "    "
   ]
  },
  {
   "cell_type": "code",
   "execution_count": null,
   "metadata": {},
   "outputs": [],
   "source": [
    "\n",
    "import os, json\n",
    "#os.environ['PYSPARK_SUBMIT_ARGS'] = '--jars /usr/spark-2.0.0/spark-streaming-kafka-0-8-assembly_2.11-2.2.1.jar'\n",
    "\n",
    "from pyspark.streaming import StreamingContext\n",
    "from pyspark.streaming.kafka import KafkaUtils\n",
    "\n",
    "ssc = StreamingContext(sc, 1)\n",
    "\n",
    "kafkaStream = KafkaUtils.createStream(ssc, 'kafka:2181', 'Spark', {'twitter-stream':1})\n",
    "\n",
    "parsed = kafkaStream.map(lambda v: json.loads(v[1]))\n",
    "parsed.count().map(lambda x:'Tweets in this batch: %s' % x).pprint()\n",
    "parsed.map(process).reduceByKey(lambda a,b: a+b).pprint()\n",
    "    \n",
    "ssc.start()  \n",
    "ssc.awaitTermination()  \n",
    "\n"
   ]
  }
 ],
 "metadata": {
  "kernelspec": {
   "display_name": "Python 3",
   "language": "python",
   "name": "python3"
  },
  "language_info": {
   "codemirror_mode": {
    "name": "ipython",
    "version": 3
   },
   "file_extension": ".py",
   "mimetype": "text/x-python",
   "name": "python",
   "nbconvert_exporter": "python",
   "pygments_lexer": "ipython3",
   "version": "3.4.3"
  }
 },
 "nbformat": 4,
 "nbformat_minor": 2
}
